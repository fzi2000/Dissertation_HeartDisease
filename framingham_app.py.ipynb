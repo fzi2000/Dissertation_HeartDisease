{
 "cells": [
  {
   "cell_type": "code",
   "execution_count": 2,
   "id": "174de8aa-524a-441f-923c-fd6e606de82f",
   "metadata": {},
   "outputs": [
    {
     "name": "stderr",
     "output_type": "stream",
     "text": [
      "WARNING:absl:Compiled the loaded model, but the compiled metrics have yet to be built. `model.compile_metrics` will be empty until you train or evaluate the model.\n",
      "c:\\Users\\fathi\\anaconda3\\Lib\\site-packages\\sklearn\\base.py:493: UserWarning: X does not have valid feature names, but StandardScaler was fitted with feature names\n",
      "  warnings.warn(\n"
     ]
    }
   ],
   "source": [
    "import streamlit as st\n",
    "import numpy as np\n",
    "import tensorflow as tf\n",
    "import joblib\n",
    "\n",
    "# Load the trained FNN model and scaler\n",
    "model = tf.keras.models.load_model(\"C:/Users/fathi/OneDrive/Desktop/D2 New/Dissertation_HeartDisease/fnn_model.h5\")\n",
    "scaler = joblib.load(\"C:/Users/fathi/OneDrive/Desktop/D2 New/Dissertation_HeartDisease/model/scaler_framingham.pkl\")  # Ensure the scaler is saved and loaded\n",
    "\n",
    "st.title(\"Heart Disease Prediction App\")\n",
    "\n",
    "# User Input (Only 9 user-defined features)\n",
    "age = st.number_input(\"Age\", min_value=20, max_value=90, value=50)\n",
    "totChol = st.number_input(\"Total Cholesterol\", min_value=100, max_value=400, value=200)\n",
    "sysBP = st.number_input(\"Systolic BP\", min_value=90, max_value=200, value=120)\n",
    "diaBP = st.number_input(\"Diastolic BP\", min_value=50, max_value=130, value=80)\n",
    "BMI = st.number_input(\"BMI\", min_value=15, max_value=50, value=25)\n",
    "glucose = st.number_input(\"Glucose Level\", min_value=50, max_value=300, value=100)\n",
    "currentSmoker = st.checkbox(\"Current Smoker\")\n",
    "prevalentHyp = st.checkbox(\"Has Hypertension\")\n",
    "diabetes = st.checkbox(\"Diabetes\")\n",
    "\n",
    "# Additional Missing Features (Filled with Default Values)\n",
    "sex = 1  # Assume male (1), female (0) - Adjust as needed\n",
    "education = 2  # Default education level (Example: Median value)\n",
    "BPMeds = 0  # Blood Pressure Medication (Default: No)\n",
    "prevalentStroke = 0  # Stroke History (Default: No)\n",
    "heartRate = 75  # Average resting heart rate (Default: 75 bpm)\n",
    "cigsPerDay = 0  # Number of cigarettes per day (Default: 0)\n",
    "\n",
    "# Convert input into numpy array with **ALL 15 FEATURES**\n",
    "user_input = np.array([[age, sex, education, currentSmoker, cigsPerDay, BPMeds, prevalentStroke, prevalentHyp,\n",
    "                        diabetes, totChol, sysBP, diaBP, BMI, heartRate, glucose]])\n",
    "\n",
    "# Ensure input has the correct shape\n",
    "if user_input.shape[1] != scaler.n_features_in_:\n",
    "    st.error(f\"Feature mismatch: Expected {scaler.n_features_in_} features, but received {user_input.shape[1]}. Check your inputs.\")\n",
    "else:\n",
    "    # Scale input\n",
    "    user_input_scaled = scaler.transform(user_input)\n",
    "\n",
    "    if st.button(\"Predict\"):\n",
    "        prediction = model.predict(user_input_scaled)\n",
    "        risk = \"High Risk\" if prediction > 0.5 else \"Low Risk\"\n",
    "        st.write(f\"Prediction: {risk}\")\n"
   ]
  },
  {
   "cell_type": "code",
   "execution_count": null,
   "id": "461ab9b7",
   "metadata": {},
   "outputs": [],
   "source": []
  }
 ],
 "metadata": {
  "kernelspec": {
   "display_name": "base",
   "language": "python",
   "name": "python3"
  },
  "language_info": {
   "codemirror_mode": {
    "name": "ipython",
    "version": 3
   },
   "file_extension": ".py",
   "mimetype": "text/x-python",
   "name": "python",
   "nbconvert_exporter": "python",
   "pygments_lexer": "ipython3",
   "version": "3.12.4"
  }
 },
 "nbformat": 4,
 "nbformat_minor": 5
}
